{
 "cells": [
  {
   "cell_type": "markdown",
   "metadata": {},
   "source": [
    "need a directory of zinc tranche files downloaded that contain the smiles string in first column"
   ]
  },
  {
   "cell_type": "code",
   "execution_count": 1,
   "metadata": {},
   "outputs": [
    {
     "name": "stdout",
     "output_type": "stream",
     "text": [
      "['250k_rndm_zinc_drugs_clean.smi']\n",
      "250k_rndm_zinc_drugs_clean.smi\n"
     ]
    }
   ],
   "source": [
    "import glob\n",
    "tables_list=glob.glob(\"*.smi\")\n",
    "print(tables_list)\n",
    "print(tables_list[0])    \n",
    "    \n"
   ]
  },
  {
   "cell_type": "markdown",
   "metadata": {},
   "source": [
    "Loop through the tables found above, take the first column containing smiles text, and append to master list"
   ]
  },
  {
   "cell_type": "code",
   "execution_count": 2,
   "metadata": {},
   "outputs": [
    {
     "name": "stdout",
     "output_type": "stream",
     "text": [
      "250k_rndm_zinc_drugs_clean.smi\n",
      "249455\n",
      "C[C@@H]1CC(Nc2cncc(-c3nncn3C)c2)C[C@@H](C)C1\n"
     ]
    }
   ],
   "source": [
    "import csv\n",
    "    \n",
    "smileslist = []\n",
    "        \n",
    "for table in tables_list:\n",
    "    with open(table) as inf:\n",
    "        reader = csv.reader(inf, delimiter=\"\\t\")\n",
    "        smiles = list(zip(*reader))[0]\n",
    "        smileslist.extend(list(smiles)[1:])\n",
    "        print(table)\n",
    "    \n",
    "print(len(smileslist))\n",
    "print(smileslist[0])\n",
    "#smiles= smileslist[1:len(smileslist)]  ### cut the first line, which is the header\n",
    "\n"
   ]
  },
  {
   "cell_type": "code",
   "execution_count": 18,
   "metadata": {},
   "outputs": [],
   "source": [
    "import random\n",
    "#sublist=smileslist[int(random.sample(range(1,249455),10000))]\n",
    "subsmiles=random.sample(smileslist,100000)"
   ]
  },
  {
   "cell_type": "markdown",
   "metadata": {},
   "source": [
    "Draw the smiles"
   ]
  },
  {
   "cell_type": "code",
   "execution_count": 4,
   "metadata": {},
   "outputs": [
    {
     "name": "stdout",
     "output_type": "stream",
     "text": [
      "249456\n"
     ]
    }
   ],
   "source": [
    "from rdkit import Chem\n",
    "from rdkit.Chem import Draw\n",
    "\n",
    "import matplotlib.pyplot as plt\n",
    "%matplotlib inline\n",
    "\n",
    "#smiles = subsmiles\n",
    "print(len(smiles))\n",
    "i=1\n",
    "for x in smiles:\n",
    "    x_mol = Chem.MolFromSmiles(str(x))\n",
    "    Draw.MolToFile(x_mol, fileName=\"./zinc250k100px/\"+str(i)+\".png\", size=(100, 100), kekulize=True, wedgeBonds=True, imageType=\"png\")\n",
    "    i+=1"
   ]
  },
  {
   "cell_type": "code",
   "execution_count": null,
   "metadata": {},
   "outputs": [],
   "source": []
  }
 ],
 "metadata": {
  "kernelspec": {
   "display_name": "vangan",
   "language": "python",
   "name": "myenv"
  },
  "language_info": {
   "codemirror_mode": {
    "name": "ipython",
    "version": 3
   },
   "file_extension": ".py",
   "mimetype": "text/x-python",
   "name": "python",
   "nbconvert_exporter": "python",
   "pygments_lexer": "ipython3",
   "version": "3.6.6"
  }
 },
 "nbformat": 4,
 "nbformat_minor": 2
}
