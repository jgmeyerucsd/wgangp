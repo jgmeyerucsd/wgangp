{
 "cells": [
  {
   "cell_type": "markdown",
   "metadata": {},
   "source": [
    "# Resize images"
   ]
  },
  {
   "cell_type": "code",
   "execution_count": null,
   "metadata": {},
   "outputs": [],
   "source": [
    "from PIL import Image\n",
    "import os, sys\n",
    "\n",
    "path = \"./zinc100k500px/\"\n",
    "dirs = os.listdir( path )\n",
    "dirs = dirs[0:10000]\n",
    "#print(dirs)[1]\n",
    "newpath = \"./zinc100k500pxRe250px/\"\n",
    "final_size = 250\n",
    "\n",
    "def resize(final_size, newpath):\n",
    "    for item in dirs:\n",
    "        if os.path.isfile(path+item):\n",
    "            im = Image.open(path+item)\n",
    "            f, e = os.path.splitext(item)\n",
    "            \n",
    "            basename= (item.split(\"/\")[-1]).split(\".\")[0]\n",
    "            \n",
    "            imResize = im.resize((final_size,final_size), Image.ANTIALIAS)\n",
    "            new_im = Image.new(\"RGB\", (final_size, final_size))\n",
    "            new_im.paste(imResize)\n",
    "            #new_im.paste(im, ((final_size-new_image_size[0])//2, (final_size-new_image_size[1])//2))\n",
    "            #new_im.save(f + 'resized.jpg', 'JPEG', quality=90)\n",
    "\n",
    "            new_im.save(newpath + basename + 'resized.png', 'PNG', quality=95)\n",
    "\n",
    "resize(250,newpath)"
   ]
  },
  {
   "cell_type": "markdown",
   "metadata": {},
   "source": [
    "# PNG -> JPEG"
   ]
  },
  {
   "cell_type": "code",
   "execution_count": null,
   "metadata": {},
   "outputs": [],
   "source": [
    "from PIL import Image\n",
    "import os, sys\n",
    "\n",
    "path = \"./zinc100k500pxRe250px/\"\n",
    "\n",
    "dirs = os.listdir( path )\n",
    "dirs = dirs[0:10000]\n",
    "#print(dirs)[1]\n",
    "newpath = \"./zinc100k500pxRe250pxJPG/\"\n",
    "os.makedirs(newpath, exist_ok=True)\n",
    "\n",
    "def png2jpg(path, newpath):\n",
    "    for item in dirs:\n",
    "        if os.path.isfile(path+item):\n",
    "            im = Image.open(path+item)\n",
    "            f, e = os.path.splitext(item)\n",
    "            \n",
    "            basename= (item.split(\"/\")[-1]).split(\".\")[0]\n",
    "            new_im = Image.new(\"RGB\", (250, 250))\n",
    "            new_im.paste(im)\n",
    "            #new_im.paste(im, ((final_size-new_image_size[0])//2, (final_size-new_image_size[1])//2))\n",
    "            #new_im.save(f + 'resized.jpg', 'JPEG', quality=90)\n",
    "\n",
    "            new_im.save(newpath + basename + 'resized.jpeg', 'JPEG', quality=95)\n",
    "\n",
    "png2jpg(path, newpath)"
   ]
  }
 ],
 "metadata": {
  "kernelspec": {
   "display_name": "vangan",
   "language": "python",
   "name": "myenv"
  },
  "language_info": {
   "codemirror_mode": {
    "name": "ipython",
    "version": 3
   },
   "file_extension": ".py",
   "mimetype": "text/x-python",
   "name": "python",
   "nbconvert_exporter": "python",
   "pygments_lexer": "ipython3",
   "version": "3.6.6"
  }
 },
 "nbformat": 4,
 "nbformat_minor": 2
}
