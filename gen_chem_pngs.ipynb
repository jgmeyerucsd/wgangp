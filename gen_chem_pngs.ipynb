{
 "cells": [
  {
   "cell_type": "markdown",
   "metadata": {},
   "source": [
    "need a directory of zinc tranche files downloaded that contain the smiles string in first column"
   ]
  },
  {
   "cell_type": "code",
   "execution_count": null,
   "metadata": {},
   "outputs": [],
   "source": [
    "tables_list=glob.glob(\"downloaded_zinc_n2/*.txt\")\n",
    "print(tables_list)\n",
    "print(tables_list[0])    \n",
    "    \n"
   ]
  },
  {
   "cell_type": "markdown",
   "metadata": {},
   "source": [
    "Loop through the tables found above, take the first column containing smiles text, and append to master list"
   ]
  },
  {
   "cell_type": "code",
   "execution_count": null,
   "metadata": {},
   "outputs": [],
   "source": [
    "import csv\n",
    "    \n",
    "smileslist = []\n",
    "        \n",
    "for table in tables_list:\n",
    "    with open(table) as inf:\n",
    "        reader = csv.reader(inf, delimiter=\"\\t\")\n",
    "        smiles = list(zip(*reader))[0]\n",
    "        smileslist.extend(list(smiles)[1:])\n",
    "        print(table)\n",
    "    \n",
    "print(len(smileslist))\n",
    "smiles= smileslist[1:len(smileslist)]  ### cut the first line, which is the header"
   ]
  },
  {
   "cell_type": "markdown",
   "metadata": {},
   "source": [
    "Draw the smiles"
   ]
  },
  {
   "cell_type": "code",
   "execution_count": null,
   "metadata": {},
   "outputs": [],
   "source": [
    "from rdkit import Chem\n",
    "from rdkit.Chem import Draw\n",
    "\n",
    "import matplotlib.pyplot as plt\n",
    "%matplotlib inline\n",
    "\n",
    "i=1\n",
    "for x in smiles:\n",
    "    x_mol = Chem.MolFromSmiles(str(x))\n",
    "    Draw.MolToFile(x_mol, fileName=\"./molecules100/\"+str(i)+\"a.png\", size=(100, 100), kekulize=True, wedgeBonds=True, imageType=\"png\")\n",
    "    i+=1"
   ]
  }
 ],
 "metadata": {
  "kernelspec": {
   "display_name": "Python 3",
   "language": "python",
   "name": "python3"
  },
  "language_info": {
   "codemirror_mode": {
    "name": "ipython",
    "version": 3
   },
   "file_extension": ".py",
   "mimetype": "text/x-python",
   "name": "python",
   "nbconvert_exporter": "python",
   "pygments_lexer": "ipython3",
   "version": "3.6.6"
  }
 },
 "nbformat": 4,
 "nbformat_minor": 2
}
